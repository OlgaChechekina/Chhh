{
 "cells": [
  {
   "cell_type": "code",
   "execution_count": null,
   "metadata": {},
   "outputs": [],
   "source": [
    "! zip -r model_output.zip LearnModelOut/\n",
    "analysis_res = ['Transcribed', 'Enhancer', 'Promoter', 'Enhancer', 'Enhancer', 'Transcribed', 'Transcribed',\n",
    "                'Promoter', 'Transcribed', 'Heterochromatin']\n",
    "with open(f'/content/HeLa-S3_10_expanded.bed', 'r') as file1:\n",
    "    with open(f'/content/result.bed', 'a') as file2:\n",
    "        n = file1.readlines()\n",
    "        for i in n:\n",
    "            if i[:5] == 'track' or i[:5] == 'brows':\n",
    "                file2.write(i)\n",
    "            else:\n",
    "                splitted_i = i.split('\\t')\n",
    "                idx = int(splitted_i[3])\n",
    "                splitted_i[3] = splitted_i[3]+\"_\" + analysis_res[idx-1]\n",
    "                file2.write('\\t'.join(splitted_i))"
   ]
  }
 ],
 "metadata": {
  "kernelspec": {
   "display_name": "Python 3",
   "language": "python",
   "name": "python3"
  },
  "language_info": {
   "codemirror_mode": {
    "name": "ipython",
    "version": 3
   },
   "file_extension": ".py",
   "mimetype": "text/x-python",
   "name": "python",
   "nbconvert_exporter": "python",
   "pygments_lexer": "ipython3",
   "version": "3.7.4"
  }
 },
 "nbformat": 4,
 "nbformat_minor": 2
}
